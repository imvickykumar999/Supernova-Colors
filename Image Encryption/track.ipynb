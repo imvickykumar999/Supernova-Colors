{
 "cells": [
  {
   "cell_type": "code",
   "execution_count": 4,
   "metadata": {},
   "outputs": [
    {
     "name": "stdout",
     "output_type": "stream",
     "text": [
      "{5: 0, 3: 1, 2: 2, 0: 3, 8: 4, 7: 5, 9: 6, 6: 7, 4: 8, 1: 9}\n"
     ]
    }
   ],
   "source": [
    "import random\n",
    "\n",
    "l = [5, 3, 2, 0, 8, 7, 9, 6, 4, 1]\n",
    "d = {v: i for i, v in enumerate(l)}\n",
    "\n",
    "print(d) # current state\n",
    "random.shuffle(l)"
   ]
  },
  {
   "cell_type": "code",
   "execution_count": 2,
   "metadata": {},
   "outputs": [
    {
     "data": {
      "text/plain": [
       "[4, 5, 1, 0, 6, 8, 9, 3, 2, 7]"
      ]
     },
     "execution_count": 2,
     "metadata": {},
     "output_type": "execute_result"
    }
   ],
   "source": [
    "l"
   ]
  },
  {
   "cell_type": "code",
   "execution_count": 6,
   "metadata": {},
   "outputs": [
    {
     "name": "stdout",
     "output_type": "stream",
     "text": [
      "[3, 4, 5, 1, 2]\n"
     ]
    }
   ],
   "source": [
    "from collections import deque\n",
    "a_list = deque([1, 2, 3, 4, 5])\n",
    "\n",
    "a_list.rotate(-2)\n",
    "shifted_list = list(a_list)\n",
    "\n",
    "print(shifted_list)"
   ]
  },
  {
   "cell_type": "code",
   "execution_count": null,
   "metadata": {},
   "outputs": [],
   "source": []
  }
 ],
 "metadata": {
  "kernelspec": {
   "display_name": "Python 3",
   "language": "python",
   "name": "python3"
  },
  "language_info": {
   "codemirror_mode": {
    "name": "ipython",
    "version": 3
   },
   "file_extension": ".py",
   "mimetype": "text/x-python",
   "name": "python",
   "nbconvert_exporter": "python",
   "pygments_lexer": "ipython3",
   "version": "3.8.3"
  }
 },
 "nbformat": 4,
 "nbformat_minor": 4
}
