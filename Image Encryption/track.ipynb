{
 "cells": [
  {
   "cell_type": "code",
   "execution_count": 27,
   "metadata": {},
   "outputs": [
    {
     "name": "stdout",
     "output_type": "stream",
     "text": [
      "{5: 0, 3: 1, 2: 2, 0: 3, 8: 4, 7: 5, 9: 6, 6: 7, 4: 8, 1: 9}\n"
     ]
    }
   ],
   "source": [
    "import random\n",
    "\n",
    "l = [5, 3, 2, 0, 8, 7, 9, 6, 4, 1]\n",
    "d = {v : i for i, v in enumerate(l)}\n",
    "\n",
    "print(d) # current state"
   ]
  },
  {
   "cell_type": "code",
   "execution_count": 28,
   "metadata": {},
   "outputs": [
    {
     "data": {
      "text/plain": [
       "[7, 3, 6, 9, 2, 4, 1, 5, 8, 0]"
      ]
     },
     "execution_count": 28,
     "metadata": {},
     "output_type": "execute_result"
    }
   ],
   "source": [
    "random.shuffle(l)\n",
    "l"
   ]
  },
  {
   "cell_type": "code",
   "execution_count": 29,
   "metadata": {},
   "outputs": [
    {
     "name": "stdout",
     "output_type": "stream",
     "text": [
      "{7: 5, 3: 1, 6: 7, 9: 6, 2: 2, 4: 8, 1: 9, 5: 0, 8: 4, 0: 3}\n"
     ]
    }
   ],
   "source": [
    "up = {}\n",
    "for i in range(len(l)):\n",
    "    up.update({l[i] : d[l[i]]})\n",
    "    \n",
    "print(up) # final state"
   ]
  },
  {
   "cell_type": "code",
   "execution_count": 19,
   "metadata": {},
   "outputs": [
    {
     "name": "stdout",
     "output_type": "stream",
     "text": [
      "[3, 4, 5, 1, 2]\n"
     ]
    }
   ],
   "source": [
    "from collections import deque\n",
    "a_list = deque([1, 2, 3, 4, 5])\n",
    "\n",
    "a_list.rotate(-2)\n",
    "shifted_list = list(a_list)\n",
    "\n",
    "print(shifted_list)"
   ]
  },
  {
   "cell_type": "code",
   "execution_count": null,
   "metadata": {},
   "outputs": [],
   "source": []
  }
 ],
 "metadata": {
  "kernelspec": {
   "display_name": "Python 3",
   "language": "python",
   "name": "python3"
  },
  "language_info": {
   "codemirror_mode": {
    "name": "ipython",
    "version": 3
   },
   "file_extension": ".py",
   "mimetype": "text/x-python",
   "name": "python",
   "nbconvert_exporter": "python",
   "pygments_lexer": "ipython3",
   "version": "3.8.3"
  }
 },
 "nbformat": 4,
 "nbformat_minor": 4
}
